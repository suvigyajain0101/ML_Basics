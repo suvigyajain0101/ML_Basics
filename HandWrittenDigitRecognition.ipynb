{
 "cells": [
  {
   "cell_type": "markdown",
   "metadata": {},
   "source": [
    "Goal of this notebook is to learn the followings - \n",
    "\n",
    "1. Image basics - Dimensions, Channels, Shape\n",
    "2. Plotting Images, when they actually are just numbers!\n",
    "3. Basic Data Prep for Image Data - Reshaping, Scaling\n",
    "4. MLP - Dense Layers and Softmax in Keras\n",
    "5. ConvNet - Conv Layer then Pooling Layer. Dropout, Dense and Flatten Layers\n",
    "6. Training and Validation Accuracy and Loss using model training history"
   ]
  },
  {
   "cell_type": "code",
   "execution_count": 1,
   "metadata": {},
   "outputs": [],
   "source": [
    "# Imports\n",
    "from keras.datasets import mnist\n",
    "import matplotlib.pyplot as plt\n",
    "from keras.models import Sequential\n",
    "from keras.layers import Dense\n",
    "from keras.utils import np_utils"
   ]
  },
  {
   "cell_type": "code",
   "execution_count": 2,
   "metadata": {},
   "outputs": [],
   "source": [
    "#Create Train and Test Data - Keras by default returns tuples of data\n",
    "\n",
    "(X_train, y_train), (X_test, y_test) = mnist.load_data()"
   ]
  },
  {
   "cell_type": "code",
   "execution_count": 3,
   "metadata": {},
   "outputs": [
    {
     "name": "stdout",
     "output_type": "stream",
     "text": [
      "Total number of Train Records :  60000\n",
      "Total number of Test Records :  10000\n"
     ]
    }
   ],
   "source": [
    "#Basic EDA on the data\n",
    "print(\"Total number of Train Records : \", X_train.shape[0])\n",
    "print(\"Total number of Test Records : \", X_test.shape[0])"
   ]
  },
  {
   "cell_type": "code",
   "execution_count": 4,
   "metadata": {},
   "outputs": [
    {
     "data": {
      "text/plain": [
       "<matplotlib.image.AxesImage at 0x1482268adf0>"
      ]
     },
     "execution_count": 4,
     "metadata": {},
     "output_type": "execute_result"
    },
    {
     "data": {
      "image/png": "[encoded data removed]",
      "text/plain": [
       "<Figure size 432x288 with 4 Axes>"
      ]
     },
     "metadata": {
      "needs_background": "light"
     },
     "output_type": "display_data"
    }
   ],
   "source": [
    "#Let's plot the data - Create a subplot with 4 images and visualize first 4 images\n",
    "#Original Dataset is created using Gray Scale Images, So convert as such.\n",
    "\n",
    "plt.subplot(221)\n",
    "plt.imshow(X_train[0], cmap=plt.get_cmap('gray'))\n",
    "plt.subplot(222)\n",
    "plt.imshow(X_train[1], cmap=plt.get_cmap('gray'))\n",
    "plt.subplot(223)\n",
    "plt.imshow(X_train[2], cmap=plt.get_cmap('gray'))\n",
    "plt.subplot(224)\n",
    "plt.imshow(X_train[3], cmap=plt.get_cmap('gray'))"
   ]
  },
  {
   "cell_type": "code",
   "execution_count": 5,
   "metadata": {},
   "outputs": [
    {
     "data": {
      "image/png": "[encoded data removed]",
      "text/plain": [
       "<Figure size 432x288 with 2 Axes>"
      ]
     },
     "metadata": {
      "needs_background": "light"
     },
     "output_type": "display_data"
    }
   ],
   "source": [
    "#Is there a class imbalance?\n",
    "\n",
    "plt.subplot(221)\n",
    "plt.hist(y_train, bins = 'auto')\n",
    "plt.subplot(222)\n",
    "plt.hist(y_test, bins = 'auto')\n",
    "plt.show()"
   ]
  },
  {
   "cell_type": "markdown",
   "metadata": {},
   "source": [
    "Test Data has no labels for digit 5. But training data seems reasonably balanced"
   ]
  },
  {
   "cell_type": "markdown",
   "metadata": {},
   "source": [
    "#### Data Preparation"
   ]
  },
  {
   "cell_type": "markdown",
   "metadata": {},
   "source": [
    "We need to perform basic data prep steps when dealing with image data like - \n",
    "1. Reshaping the input using pixels\n",
    "2. Scaling (Gray Scale pixels range from 0 -255)\n",
    "3. One hot encode the labels. Since the labels are 0-9, we don't want to add a bias to the model that 9 is more important than 0\n",
    "\n",
    "But before all of this, let's create a Validation Data Set - Split test in 2 parts. We don't provide our model testing data during training. We don't do that here!"
   ]
  },
  {
   "cell_type": "code",
   "execution_count": 6,
   "metadata": {},
   "outputs": [],
   "source": [
    "val_factor = 0.5\n",
    "val_records = int(val_factor * X_test.shape[0])\n",
    "\n",
    "\n",
    "X_val, y_val = X_test[:val_records], y_test[:val_records]\n",
    "X_test, y_test = X_test[val_records:], y_test[val_records:]"
   ]
  },
  {
   "cell_type": "code",
   "execution_count": 7,
   "metadata": {
    "scrolled": true
   },
   "outputs": [
    {
     "name": "stdout",
     "output_type": "stream",
     "text": [
      "Image Size :  (28, 28)\n",
      "Image Vector Size :  784\n"
     ]
    }
   ],
   "source": [
    "#Get Image Size\n",
    "\n",
    "print(\"Image Size : \", X_train[0].shape)\n",
    "print(\"Image Vector Size : \", X_train[0].shape[0] * X_train[0].shape[1])"
   ]
  },
  {
   "cell_type": "code",
   "execution_count": 8,
   "metadata": {},
   "outputs": [],
   "source": [
    "#We will convert array of size (28, 28) to vector of size (784, ). So 60000 images of (28,28) will become (60000, 784)\n",
    "#Idea is to convert every image to the array of pixel values (every pixel has a numerical value associated with it)\n",
    "\n",
    "num_of_pixels = X_train.shape[1] * X_train.shape[2]\n",
    "\n",
    "X_train = X_train.reshape(X_train.shape[0], num_of_pixels)\n",
    "X_val = X_val.reshape(X_val.shape[0], num_of_pixels)\n",
    "X_test = X_test.reshape(X_test.shape[0], num_of_pixels)"
   ]
  },
  {
   "cell_type": "code",
   "execution_count": 9,
   "metadata": {},
   "outputs": [],
   "source": [
    "#Pixel values can be large numbers (For e.g, Gray Scale can be 0-255). It's a good idea to scale the numbers\n",
    "X_train = X_train/255 #Taking advantage of numpy array division..... Cool, right!\n",
    "X_val = X_val/255\n",
    "X_test = X_test/255"
   ]
  },
  {
   "cell_type": "code",
   "execution_count": 10,
   "metadata": {},
   "outputs": [],
   "source": [
    "#Using Numpy Utility built-in Keras - np_utils, one-hot encode labels\n",
    "\n",
    "y_train = np_utils.to_categorical(y_train)\n",
    "y_val = np_utils.to_categorical(y_val)\n",
    "y_test = np_utils.to_categorical(y_test)\n",
    "\n",
    "num_of_labels = y_train.shape[1]"
   ]
  },
  {
   "cell_type": "markdown",
   "metadata": {},
   "source": [
    "#### Baseline Model"
   ]
  },
  {
   "cell_type": "code",
   "execution_count": 11,
   "metadata": {},
   "outputs": [],
   "source": [
    "def baseline_model():\n",
    "    #Create Model\n",
    "    model = Sequential()\n",
    "    model.add(Dense(num_of_pixels, input_dim = num_of_pixels, kernel_initializer='normal', activation='relu'))\n",
    "    model.add(Dense(num_of_labels, activation='softmax'))\n",
    "    \n",
    "    #Compile Model\n",
    "    model.compile(loss='categorical_crossentropy', optimizer='adam', metrics=['accuracy'])\n",
    "    return(model)"
   ]
  },
  {
   "cell_type": "code",
   "execution_count": 12,
   "metadata": {},
   "outputs": [
    {
     "name": "stdout",
     "output_type": "stream",
     "text": [
      "Epoch 1/10\n",
      "300/300 - 4s - loss: 0.2764 - accuracy: 0.9212 - val_loss: 0.1800 - val_accuracy: 0.9486\n",
      "Epoch 2/10\n",
      "300/300 - 4s - loss: 0.1117 - accuracy: 0.9676 - val_loss: 0.1240 - val_accuracy: 0.9612\n",
      "Epoch 3/10\n",
      "300/300 - 4s - loss: 0.0717 - accuracy: 0.9797 - val_loss: 0.1060 - val_accuracy: 0.9684\n",
      "Epoch 4/10\n",
      "300/300 - 4s - loss: 0.0506 - accuracy: 0.9852 - val_loss: 0.0939 - val_accuracy: 0.9704\n",
      "Epoch 5/10\n",
      "300/300 - 4s - loss: 0.0366 - accuracy: 0.9894 - val_loss: 0.0919 - val_accuracy: 0.9728\n",
      "Epoch 6/10\n",
      "300/300 - 4s - loss: 0.0269 - accuracy: 0.9931 - val_loss: 0.0858 - val_accuracy: 0.9720\n",
      "Epoch 7/10\n",
      "300/300 - 4s - loss: 0.0189 - accuracy: 0.9956 - val_loss: 0.0841 - val_accuracy: 0.9726\n",
      "Epoch 8/10\n",
      "300/300 - 4s - loss: 0.0147 - accuracy: 0.9968 - val_loss: 0.0804 - val_accuracy: 0.9764\n",
      "Epoch 9/10\n",
      "300/300 - 4s - loss: 0.0104 - accuracy: 0.9978 - val_loss: 0.0871 - val_accuracy: 0.9736\n",
      "Epoch 10/10\n",
      "300/300 - 4s - loss: 0.0077 - accuracy: 0.9986 - val_loss: 0.0891 - val_accuracy: 0.9726\n",
      "Score of the baseline model :  [0.03790931776165962, 0.9883999824523926]\n"
     ]
    }
   ],
   "source": [
    "#Build the model\n",
    "model = baseline_model()\n",
    "\n",
    "\n",
    "#Train the model. Saving model training history to plot train and val losses\n",
    "history = model.fit(X_train, y_train, validation_data = (X_val, y_val), epochs=10, batch_size=200, verbose=2)\n",
    "\n",
    "#Evaluate the model\n",
    "score = model.evaluate(X_test, y_test, verbose = 0)\n",
    "print(\"Score of the baseline model : \", score)"
   ]
  },
  {
   "cell_type": "code",
   "execution_count": 13,
   "metadata": {},
   "outputs": [],
   "source": [
    "#Convert Class Probabilities to Labels - Get Index where Probabilty is maximum\n",
    "\n",
    "output = model.predict(X_test).argmax(axis=-1)"
   ]
  },
  {
   "cell_type": "code",
   "execution_count": 14,
   "metadata": {
    "scrolled": true
   },
   "outputs": [
    {
     "data": {
      "image/png": "[encoded data removed]",
      "text/plain": [
       "<Figure size 432x288 with 1 Axes>"
      ]
     },
     "metadata": {
      "needs_background": "light"
     },
     "output_type": "display_data"
    },
    {
     "name": "stdout",
     "output_type": "stream",
     "text": [
      "Model Output :  3\n"
     ]
    },
    {
     "data": {
      "image/png": "[encoded data removed]",
      "text/plain": [
       "<Figure size 432x288 with 1 Axes>"
      ]
     },
     "metadata": {
      "needs_background": "light"
     },
     "output_type": "display_data"
    },
    {
     "name": "stdout",
     "output_type": "stream",
     "text": [
      "Model Output :  9\n"
     ]
    },
    {
     "data": {
      "image/png": "[encoded data removed]",
      "text/plain": [
       "<Figure size 432x288 with 1 Axes>"
      ]
     },
     "metadata": {
      "needs_background": "light"
     },
     "output_type": "display_data"
    },
    {
     "name": "stdout",
     "output_type": "stream",
     "text": [
      "Model Output :  9\n"
     ]
    },
    {
     "data": {
      "image/png": "[encoded data removed]",
      "text/plain": [
       "<Figure size 432x288 with 1 Axes>"
      ]
     },
     "metadata": {
      "needs_background": "light"
     },
     "output_type": "display_data"
    },
    {
     "name": "stdout",
     "output_type": "stream",
     "text": [
      "Model Output :  8\n"
     ]
    },
    {
     "data": {
      "image/png": "[encoded data removed]",
      "text/plain": [
       "<Figure size 432x288 with 1 Axes>"
      ]
     },
     "metadata": {
      "needs_background": "light"
     },
     "output_type": "display_data"
    },
    {
     "name": "stdout",
     "output_type": "stream",
     "text": [
      "Model Output :  4\n"
     ]
    }
   ],
   "source": [
    "#Let's check 5 images and their predicted labels\n",
    "\n",
    "for i in range(5):\n",
    "    plt.imshow(X_test[i].reshape(28,28), cmap=plt.get_cmap('gray'))\n",
    "    plt.show()\n",
    "    print(\"Model Output : \", output[i])"
   ]
  },
  {
   "cell_type": "code",
   "execution_count": 15,
   "metadata": {},
   "outputs": [
    {
     "data": {
      "image/png": "[encoded data removed]",
      "text/plain": [
       "<Figure size 432x288 with 1 Axes>"
      ]
     },
     "metadata": {
      "needs_background": "light"
     },
     "output_type": "display_data"
    }
   ],
   "source": [
    "#Let's plot model accuracy and validation accuracy per epoch\n",
    "#Here the accuracy numbers are pretty high, so not getting a good idea when to stop.\n",
    "#But in practice, usually this gives a good idea about early stopping\n",
    "#Use similar logic to plot training and validation loss\n",
    "\n",
    "plt.plot(history.history['accuracy'])\n",
    "plt.plot(history.history['val_accuracy'])\n",
    "plt.title('model accuracy')\n",
    "plt.ylabel('accuracy')\n",
    "plt.xlabel('epoch')\n",
    "plt.legend(['train', 'val'], loc='upper left')\n",
    "plt.show()"
   ]
  },
  {
   "cell_type": "markdown",
   "metadata": {},
   "source": [
    "#### MNIST Dataset with Simple ConvNet \n",
    "\n",
    "Ofcourse we are going to start from scratch!!!!!"
   ]
  },
  {
   "cell_type": "code",
   "execution_count": 16,
   "metadata": {},
   "outputs": [],
   "source": [
    "#Imports\n",
    "from keras.datasets import mnist\n",
    "from keras.models import Sequential\n",
    "from keras.layers import Dense, Dropout, Flatten\n",
    "from keras.layers.convolutional import Conv2D, MaxPooling2D\n",
    "from keras.utils import np_utils"
   ]
  },
  {
   "cell_type": "code",
   "execution_count": 17,
   "metadata": {},
   "outputs": [],
   "source": [
    "(X_train, y_train) , (X_test, y_test) = mnist.load_data()"
   ]
  },
  {
   "cell_type": "markdown",
   "metadata": {},
   "source": [
    "For Conv2D, we need to follow this shape conventions - \n",
    "\n",
    "[SAMPLES][WIDTH][HEIGHT][CHANNELS]\n",
    "(Samples or training data, one and the same thing)\n",
    "\n",
    "Since we have gray-scale data, we have channel = 1, otherwise for e.g, for RGB, this would be 3"
   ]
  },
  {
   "cell_type": "code",
   "execution_count": 18,
   "metadata": {},
   "outputs": [],
   "source": [
    "train_samples = X_train.shape[0]\n",
    "train_width = X_train[0].shape[0]\n",
    "train_height = X_train[0].shape[1]\n",
    "train_channels = 1\n",
    "\n",
    "test_samples = X_test.shape[0]\n",
    "test_width = X_test[0].shape[0]\n",
    "test_height = X_test[0].shape[1]\n",
    "test_channels = 1\n",
    "\n",
    "X_train = X_train.reshape(train_samples, train_width, train_height, train_channels)\n",
    "X_test = X_test.reshape(test_samples, test_width, test_height, test_channels)"
   ]
  },
  {
   "cell_type": "code",
   "execution_count": 19,
   "metadata": {},
   "outputs": [],
   "source": [
    "#Just like before, let's scale the data\n",
    "X_train = X_train/255\n",
    "X_test = X_test/255"
   ]
  },
  {
   "cell_type": "code",
   "execution_count": 20,
   "metadata": {},
   "outputs": [],
   "source": [
    "#Just like before, let's One-Hot encode the data\n",
    "\n",
    "y_train = np_utils.to_categorical(y_train)\n",
    "y_test = np_utils.to_categorical(y_test)\n",
    "\n",
    "num_classes = y_train.shape[1] #Required for final Softmax layer"
   ]
  },
  {
   "cell_type": "code",
   "execution_count": 21,
   "metadata": {},
   "outputs": [],
   "source": [
    "#Remember the words of great Andrew Ng, Conv layers is followed by Pooling Layer\n",
    "\n",
    "\n",
    "def simple_convnet():\n",
    "    #Create model\n",
    "    model = Sequential()\n",
    "    model.add(Conv2D(32, (5,5), input_shape = (train_width, train_height,train_channels), activation = 'relu'))\n",
    "    model.add(MaxPooling2D(pool_size=(2,2)))\n",
    "    model.add(Dropout(0.2))\n",
    "    model.add(Flatten())\n",
    "    model.add(Dense(128, activation='relu'))\n",
    "    model.add(Dense(num_classes, activation='softmax'))\n",
    "    \n",
    "    #Compile Model\n",
    "    model.compile(loss='categorical_crossentropy', optimizer='adam', metrics=['accuracy'])\n",
    "    \n",
    "    return(model)"
   ]
  },
  {
   "cell_type": "code",
   "execution_count": 22,
   "metadata": {
    "scrolled": true
   },
   "outputs": [
    {
     "name": "stdout",
     "output_type": "stream",
     "text": [
      "Epoch 1/10\n",
      "240/240 - 27s - loss: 0.2794 - accuracy: 0.9205 - val_loss: 0.1050 - val_accuracy: 0.9700\n",
      "Epoch 2/10\n",
      "240/240 - 26s - loss: 0.0839 - accuracy: 0.9752 - val_loss: 0.0667 - val_accuracy: 0.9810\n",
      "Epoch 3/10\n",
      "240/240 - 26s - loss: 0.0591 - accuracy: 0.9822 - val_loss: 0.0588 - val_accuracy: 0.9830\n",
      "Epoch 4/10\n",
      "240/240 - 26s - loss: 0.0455 - accuracy: 0.9857 - val_loss: 0.0514 - val_accuracy: 0.9849\n",
      "Epoch 5/10\n",
      "240/240 - 26s - loss: 0.0384 - accuracy: 0.9879 - val_loss: 0.0487 - val_accuracy: 0.9854\n",
      "Epoch 6/10\n",
      "240/240 - 26s - loss: 0.0315 - accuracy: 0.9905 - val_loss: 0.0445 - val_accuracy: 0.9873\n",
      "Epoch 7/10\n",
      "240/240 - 26s - loss: 0.0261 - accuracy: 0.9919 - val_loss: 0.0481 - val_accuracy: 0.9862\n",
      "Epoch 8/10\n",
      "240/240 - 26s - loss: 0.0213 - accuracy: 0.9933 - val_loss: 0.0408 - val_accuracy: 0.9878\n",
      "Epoch 9/10\n",
      "240/240 - 26s - loss: 0.0187 - accuracy: 0.9943 - val_loss: 0.0411 - val_accuracy: 0.9878\n",
      "Epoch 10/10\n",
      "240/240 - 26s - loss: 0.0173 - accuracy: 0.9940 - val_loss: 0.0413 - val_accuracy: 0.9876\n",
      "Model Score :  [0.03672567754983902, 0.9887999892234802]\n"
     ]
    }
   ],
   "source": [
    "#Build the model\n",
    "model = simple_convnet()\n",
    "\n",
    "#Fit the model\n",
    "history = model.fit(X_train, y_train, validation_split=0.2, epochs=10, batch_size=200,verbose=2)\n",
    "\n",
    "#Score the model\n",
    "scores = model.evaluate(X_test, y_test, verbose = 0)\n",
    "print(\"Model Score : \", scores)\n",
    "\n",
    "#Lessons learned - Complex models take longer to train.....DUHHHH!!!!"
   ]
  },
  {
   "cell_type": "code",
   "execution_count": 23,
   "metadata": {},
   "outputs": [],
   "source": [
    "#Convert Class Probabilities to Labels - Get Index where Probabilty is maximum\n",
    "\n",
    "output = model.predict(X_test).argmax(axis=-1)"
   ]
  },
  {
   "cell_type": "code",
   "execution_count": 24,
   "metadata": {},
   "outputs": [
    {
     "data": {
      "image/png": "[encoded data removed]",
      "text/plain": [
       "<Figure size 432x288 with 1 Axes>"
      ]
     },
     "metadata": {
      "needs_background": "light"
     },
     "output_type": "display_data"
    },
    {
     "name": "stdout",
     "output_type": "stream",
     "text": [
      "Model Output :  7\n"
     ]
    },
    {
     "data": {
      "image/png": "[encoded data removed]",
      "text/plain": [
       "<Figure size 432x288 with 1 Axes>"
      ]
     },
     "metadata": {
      "needs_background": "light"
     },
     "output_type": "display_data"
    },
    {
     "name": "stdout",
     "output_type": "stream",
     "text": [
      "Model Output :  2\n"
     ]
    },
    {
     "data": {
      "image/png": "[encoded data removed]",
      "text/plain": [
       "<Figure size 432x288 with 1 Axes>"
      ]
     },
     "metadata": {
      "needs_background": "light"
     },
     "output_type": "display_data"
    },
    {
     "name": "stdout",
     "output_type": "stream",
     "text": [
      "Model Output :  1\n"
     ]
    },
    {
     "data": {
      "image/png": "[encoded data removed]",
      "text/plain": [
       "<Figure size 432x288 with 1 Axes>"
      ]
     },
     "metadata": {
      "needs_background": "light"
     },
     "output_type": "display_data"
    },
    {
     "name": "stdout",
     "output_type": "stream",
     "text": [
      "Model Output :  0\n"
     ]
    },
    {
     "data": {
      "image/png": "[encoded data removed]",
      "text/plain": [
       "<Figure size 432x288 with 1 Axes>"
      ]
     },
     "metadata": {
      "needs_background": "light"
     },
     "output_type": "display_data"
    },
    {
     "name": "stdout",
     "output_type": "stream",
     "text": [
      "Model Output :  4\n"
     ]
    }
   ],
   "source": [
    "#Let's check 5 images and their predicted labels\n",
    "\n",
    "for i in range(5):\n",
    "    plt.imshow(X_test[i].reshape(28,28), cmap=plt.get_cmap('gray'))\n",
    "    plt.show()\n",
    "    print(\"Model Output : \", output[i])"
   ]
  },
  {
   "cell_type": "code",
   "execution_count": 25,
   "metadata": {},
   "outputs": [
    {
     "data": {
      "image/png": "[encoded data removed]",
      "text/plain": [
       "<Figure size 432x288 with 1 Axes>"
      ]
     },
     "metadata": {
      "needs_background": "light"
     },
     "output_type": "display_data"
    }
   ],
   "source": [
    "#Let's plot model accuracy and validation accuracy per epoch\n",
    "#Just like earlier, the accuracy numbers are pretty high and need for this graph is pretty low\n",
    "\n",
    "plt.plot(history.history['accuracy'])\n",
    "plt.plot(history.history['val_accuracy'])\n",
    "plt.title('model accuracy')\n",
    "plt.ylabel('accuracy')\n",
    "plt.xlabel('epoch')\n",
    "plt.legend(['train', 'val'], loc='upper left')\n",
    "plt.show()"
   ]
  }
 ],
 "metadata": {
  "kernelspec": {
   "display_name": "Python 3",
   "language": "python",
   "name": "python3"
  },
  "language_info": {
   "codemirror_mode": {
    "name": "ipython",
    "version": 3
   },
   "file_extension": ".py",
   "mimetype": "text/x-python",
   "name": "python",
   "nbconvert_exporter": "python",
   "pygments_lexer": "ipython3",
   "version": "3.8.5"
  }
 },
 "nbformat": 4,
 "nbformat_minor": 4
}
