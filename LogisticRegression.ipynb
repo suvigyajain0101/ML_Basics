{
 "cells": [
  {
   "cell_type": "markdown",
   "metadata": {},
   "source": [
    "# Logistic Regression Basics - \n",
    "\n",
    "* Generally used for Binary (or Binomial) Classification. But can be used for Multiclass (or Multinomial) Classification as well\n",
    "* LR is a linear classifier.  𝑓(𝐱) = 𝑏₀ + 𝑏₁𝑥₁ + ⋯ + 𝑏ᵣ𝑥ᵣ, also called the logit\n",
    "            where, f(x) : Linear function\n",
    "         [x1,x2,x3....] : Input vector\n",
    "         [b0,b1,b2....] : Weights (or Estimator or Coefficients)\n",
    "* Logistic regression function 𝑝(𝐱) is the sigmoid function of 𝑓(𝐱): \n",
    "            𝑝(𝐱) = 1 / (1 + exp(−𝑓(𝐱))\n",
    "                          \n",
    "* During model training, we update [b0,b1,b2....] such that we maximise Log Likelihood functions\n",
    "            LLF = Σᵢ(𝑦ᵢ log(𝑝(𝐱ᵢ)) + (1 − 𝑦ᵢ) log(1 − 𝑝(𝐱ᵢ)))\n",
    "            \n",
    "            \n",
    "            \n",
    "NOTE - Source and Credits : https://realpython.com/logistic-regression-python/"
   ]
  },
  {
   "cell_type": "markdown",
   "metadata": {},
   "source": [
    "# Classification Performance\n",
    "\n",
    "True negatives: correctly predicted negatives (zeros)\n",
    "True positives: correctly predicted positives (ones)\n",
    "False negatives: incorrectly predicted negatives (zeros)\n",
    "False positives: incorrectly predicted positives (ones)\n",
    "    \n",
    "\n",
    "The most straightforward indicator of classification accuracy is the ratio of the number of correct predictions to the total number of predictions (or observations). Other indicators of binary classifiers include the following:\n",
    "\n",
    "Positive predictive value : ratio of the number of true positives to the sum of the numbers of true and false positives.\n",
    "Negative predictive value : ratio of the number of true negatives to the sum of the numbers of true and false negatives.\n",
    "Sensitivity (recall or true positive rate) : ratio of the number of true positives to the number of actual positives.\n",
    "Specificity (true negative rate) : ratio of the number of true negatives to the number of actual negatives."
   ]
  },
  {
   "cell_type": "markdown",
   "metadata": {},
   "source": [
    "# Example 1 - Single Variate Binary Classification"
   ]
  },
  {
   "cell_type": "code",
   "execution_count": 3,
   "metadata": {},
   "outputs": [],
   "source": [
    "import matplotlib.pyplot as plt\n",
    "import numpy as np\n",
    "from sklearn.linear_model import LogisticRegression\n",
    "from sklearn.metrics import classification_report, confusion_matrix"
   ]
  },
  {
   "cell_type": "code",
   "execution_count": 6,
   "metadata": {},
   "outputs": [],
   "source": [
    "#Create dummy data\n",
    "x = np.arange(10).reshape(-1,1) #reshape converts array to column vector\n",
    "y = np.array([0, 0, 0, 0, 1, 1, 1, 1, 1, 1]) #manually given labels"
   ]
  },
  {
   "cell_type": "code",
   "execution_count": 14,
   "metadata": {},
   "outputs": [
    {
     "data": {
      "image/png": "[encoded data removed]",
      "text/plain": [
       "<Figure size 432x288 with 1 Axes>"
      ]
     },
     "metadata": {
      "needs_background": "light"
     },
     "output_type": "display_data"
    }
   ],
   "source": [
    "#Visualize the data\n",
    "plt.title(\"Data Visualization\")  \n",
    "plt.xlabel(\"X\")  \n",
    "plt.ylabel(\"Y\")  \n",
    "plt.plot(x, y, 'o', color =\"g\")  \n",
    "plt.show()"
   ]
  },
  {
   "cell_type": "code",
   "execution_count": 9,
   "metadata": {},
   "outputs": [
    {
     "data": {
      "text/plain": [
       "LogisticRegression(random_state=0, solver='liblinear')"
      ]
     },
     "execution_count": 9,
     "metadata": {},
     "output_type": "execute_result"
    }
   ],
   "source": [
    "#Create Model\n",
    "model = LogisticRegression(solver='liblinear', random_state=0)\n",
    "\n",
    "#Once instance of Class Logistic Regression is created, we need to fit it on our data\n",
    "model.fit(x,y)"
   ]
  },
  {
   "cell_type": "code",
   "execution_count": 11,
   "metadata": {},
   "outputs": [
    {
     "data": {
      "text/plain": [
       "(array([0, 1]), array([-1.04608067]), array([[0.51491375]]))"
      ]
     },
     "execution_count": 11,
     "metadata": {},
     "output_type": "execute_result"
    }
   ],
   "source": [
    "#Various attributes of the model\n",
    "#     - model.classes_ : Gives all the classes in y\n",
    "#     - model.intercept_ : Gives the intercept of the linear function\n",
    "#     - model.coef_ : Gives the slope of the linear function\n",
    "model.classes_, model.intercept_, model.coef_"
   ]
  },
  {
   "cell_type": "code",
   "execution_count": 15,
   "metadata": {},
   "outputs": [
    {
     "data": {
      "text/plain": [
       "array([[0.74002157, 0.25997843],\n",
       "       [0.62975524, 0.37024476],\n",
       "       [0.5040632 , 0.4959368 ],\n",
       "       [0.37785549, 0.62214451],\n",
       "       [0.26628093, 0.73371907],\n",
       "       [0.17821501, 0.82178499],\n",
       "       [0.11472079, 0.88527921],\n",
       "       [0.07186982, 0.92813018],\n",
       "       [0.04422513, 0.95577487],\n",
       "       [0.02690569, 0.97309431]])"
      ]
     },
     "execution_count": 15,
     "metadata": {},
     "output_type": "execute_result"
    }
   ],
   "source": [
    "#Model Performance\n",
    "model.predict_proba(x)\n",
    "\n",
    "#This gives an array of [p[0], p[1]] for the training data. \n",
    "#Can clearly see if we keep threshold = 0.5, first 3 records are classified as 0 and rest 7 as 1. Something is not right"
   ]
  },
  {
   "cell_type": "code",
   "execution_count": 16,
   "metadata": {},
   "outputs": [
    {
     "data": {
      "text/plain": [
       "array([0, 0, 0, 1, 1, 1, 1, 1, 1, 1])"
      ]
     },
     "execution_count": 16,
     "metadata": {},
     "output_type": "execute_result"
    }
   ],
   "source": [
    "#Easier way to do this - \n",
    "model.predict(x)"
   ]
  },
  {
   "cell_type": "markdown",
   "metadata": {},
   "source": [
    "#### MODEL EVALUATION"
   ]
  },
  {
   "cell_type": "code",
   "execution_count": 19,
   "metadata": {},
   "outputs": [
    {
     "data": {
      "text/plain": [
       "0.9"
      ]
     },
     "execution_count": 19,
     "metadata": {},
     "output_type": "execute_result"
    }
   ],
   "source": [
    "model.score(x, y)"
   ]
  },
  {
   "cell_type": "code",
   "execution_count": 26,
   "metadata": {},
   "outputs": [
    {
     "data": {
      "text/plain": [
       "array([[3, 1],\n",
       "       [0, 6]], dtype=int64)"
      ]
     },
     "execution_count": 26,
     "metadata": {},
     "output_type": "execute_result"
    }
   ],
   "source": [
    "confusion_matrix(y, model.predict(x)) #Special attention to placement of y and model.predict\n",
    "\n",
    "\n",
    "# The result of this tells the following - \n",
    "#         TP : 3\n",
    "#         TN : 6\n",
    "#         FP : 1\n",
    "#         FN : 0\n",
    "# This is what we can understand from model.predict as well. One of the labels is falsely classified as 1 instead of 0"
   ]
  },
  {
   "cell_type": "code",
   "execution_count": 29,
   "metadata": {},
   "outputs": [
    {
     "name": "stdout",
     "output_type": "stream",
     "text": [
      "              precision    recall  f1-score   support\n",
      "\n",
      "           0       1.00      0.75      0.86         4\n",
      "           1       0.86      1.00      0.92         6\n",
      "\n",
      "    accuracy                           0.90        10\n",
      "   macro avg       0.93      0.88      0.89        10\n",
      "weighted avg       0.91      0.90      0.90        10\n",
      "\n"
     ]
    }
   ],
   "source": [
    "#Create Classification Report - Gives Precision, Recall and F1 score\n",
    "print(classification_report(y, model.predict(x)))"
   ]
  },
  {
   "cell_type": "code",
   "execution_count": null,
   "metadata": {},
   "outputs": [],
   "source": [
    "#Few final comments about the above exercise - \n",
    "# 1. Basic implementation of Logistic Regression. A lot of parameters in LogisticRegression can be tweaked to get better results\n",
    "# 2. Testing should ideally be done on unseen data - Train, Test split. Again, it's just an illustration"
   ]
  },
  {
   "cell_type": "markdown",
   "metadata": {},
   "source": [
    "# Example 2 - Handwriting Recognition"
   ]
  },
  {
   "cell_type": "code",
   "execution_count": 45,
   "metadata": {},
   "outputs": [],
   "source": [
    "import matplotlib.pyplot as plt\n",
    "import numpy as np\n",
    "from sklearn.datasets import load_digits\n",
    "from sklearn.linear_model import LogisticRegression\n",
    "from sklearn.metrics import classification_report, confusion_matrix, plot_confusion_matrix\n",
    "from sklearn.model_selection import train_test_split\n",
    "from sklearn.preprocessing import StandardScaler"
   ]
  },
  {
   "cell_type": "code",
   "execution_count": 33,
   "metadata": {},
   "outputs": [],
   "source": [
    "# Get the data\n",
    "x, y = load_digits(return_X_y=True)\n",
    "x.shape, y.shape"
   ]
  },
  {
   "cell_type": "code",
   "execution_count": 34,
   "metadata": {},
   "outputs": [
    {
     "data": {
      "text/plain": [
       "array([[ 0.,  0.,  5., ...,  0.,  0.,  0.],\n",
       "       [ 0.,  0.,  0., ..., 10.,  0.,  0.],\n",
       "       [ 0.,  0.,  0., ..., 16.,  9.,  0.],\n",
       "       ...,\n",
       "       [ 0.,  0.,  1., ...,  6.,  0.,  0.],\n",
       "       [ 0.,  0.,  2., ..., 12.,  0.,  0.],\n",
       "       [ 0.,  0., 10., ..., 12.,  1.,  0.]])"
      ]
     },
     "execution_count": 34,
     "metadata": {},
     "output_type": "execute_result"
    }
   ],
   "source": [
    "x"
   ]
  },
  {
   "cell_type": "code",
   "execution_count": 35,
   "metadata": {},
   "outputs": [
    {
     "data": {
      "text/plain": [
       "array([0, 1, 2, ..., 8, 9, 8])"
      ]
     },
     "execution_count": 35,
     "metadata": {},
     "output_type": "execute_result"
    }
   ],
   "source": [
    "y"
   ]
  },
  {
   "cell_type": "code",
   "execution_count": 37,
   "metadata": {},
   "outputs": [],
   "source": [
    "#Train Test Split\n",
    "\n",
    "x_train, x_test, y_train, y_test = train_test_split(x, y, test_size = 0.2, random_state = 0)"
   ]
  },
  {
   "cell_type": "markdown",
   "metadata": {},
   "source": [
    "### Standardization\n",
    "\n",
    "Since the data in X is numeric, outside the range [-1,1] or even [1,10], it's a good idea to look into standardization\n",
    "Standardization is the process of transforming an array such that :\n",
    "\n",
    "        1.Column Mean = 0\n",
    "        2.Column Std Dev = 1\n",
    "\n",
    "\n",
    "Steps for standardization - \n",
    "\n",
    "    1. Calculate the mean and standard deviation for each column.\n",
    "    2. Subtract the corresponding mean from each element.\n",
    "    3. Divide the obtained difference by the corresponding standard deviation."
   ]
  },
  {
   "cell_type": "code",
   "execution_count": 38,
   "metadata": {},
   "outputs": [],
   "source": [
    "#Instantiate StandardScaler class and call fit_transform to standardize\n",
    "\n",
    "scaler = StandardScaler()\n",
    "x_train, x_test = scaler.fit_transform(x_train), scaler.fit_transform(x_test)"
   ]
  },
  {
   "cell_type": "code",
   "execution_count": 39,
   "metadata": {},
   "outputs": [
    {
     "data": {
      "text/plain": [
       "LogisticRegression(C=0.05, multi_class='ovr', random_state=0,\n",
       "                   solver='liblinear')"
      ]
     },
     "execution_count": 39,
     "metadata": {},
     "output_type": "execute_result"
    }
   ],
   "source": [
    "#Instantiate LogisticRegression Class and fit the data\n",
    "\n",
    "model = LogisticRegression(solver='liblinear', C=0.05, multi_class='ovr',\n",
    "                           random_state=0)\n",
    "\n",
    "model.fit(x_train, y_train)"
   ]
  },
  {
   "cell_type": "code",
   "execution_count": 40,
   "metadata": {
    "collapsed": true
   },
   "outputs": [
    {
     "data": {
      "text/plain": [
       "(array([0, 1, 2, 3, 4, 5, 6, 7, 8, 9]),\n",
       " array([-2.73645761, -2.77774361, -2.74028598, -2.72221436, -2.70234208,\n",
       "        -2.7232237 , -2.79949725, -2.74590013, -2.63851341, -2.75679358]),\n",
       " array([[ 0.00000000e+00, -2.27680531e-02, -1.05198103e-02,\n",
       "          1.49272422e-01, -8.08210879e-02, -2.49747653e-01,\n",
       "         -5.14325206e-02, -5.45056683e-03, -2.32032737e-03,\n",
       "         -1.25447504e-01,  3.24463204e-02,  1.02987845e-01,\n",
       "          3.08882350e-01,  3.10625812e-01, -4.08016176e-02,\n",
       "         -1.34743379e-02,  1.08159828e-02,  7.79920142e-02,\n",
       "         -2.55957154e-02, -7.22962220e-03, -1.66787374e-01,\n",
       "          3.37966750e-01,  5.94210751e-02, -2.43160281e-02,\n",
       "          1.77634770e-02,  1.80673248e-01,  9.67450831e-03,\n",
       "         -2.68433227e-01, -4.95389929e-01, -1.28902641e-01,\n",
       "          1.70026784e-01, -2.89743863e-03,  0.00000000e+00,\n",
       "          1.45614546e-01,  1.70908304e-01, -3.15761191e-01,\n",
       "         -3.69687449e-01, -1.86967353e-01,  1.56212150e-01,\n",
       "          0.00000000e+00, -1.93245767e-02, -1.05328652e-01,\n",
       "          3.66928484e-01, -3.37811635e-01, -3.43997894e-01,\n",
       "          8.04630692e-03,  9.36489204e-03,  2.45574216e-03,\n",
       "         -2.34168093e-02, -1.60434709e-01,  2.20981289e-01,\n",
       "          1.17459875e-01,  2.02655733e-01,  1.35809376e-01,\n",
       "         -1.86910239e-01,  4.09616004e-02,  1.69808573e-02,\n",
       "         -3.10310929e-02, -6.51346885e-02,  1.32153332e-01,\n",
       "         -1.15788966e-01, -1.26820221e-01, -3.75484009e-02,\n",
       "          2.54458006e-02],\n",
       "        [ 0.00000000e+00, -4.44373438e-02, -6.11414628e-02,\n",
       "          9.97966593e-02, -4.20579584e-01,  3.24458917e-01,\n",
       "         -4.84569783e-05, -1.32045005e-02, -3.82352054e-03,\n",
       "         -3.03381685e-01, -4.72052001e-01, -1.23239601e-01,\n",
       "          1.85790411e-01,  2.21597957e-01, -2.23807977e-01,\n",
       "         -1.42761875e-02, -2.40102643e-02,  6.41414645e-02,\n",
       "         -6.02862552e-02,  5.55215494e-01,  5.09404144e-01,\n",
       "         -8.65023657e-02,  3.57981304e-04, -3.14763431e-02,\n",
       "         -6.15770282e-02,  1.28021862e-01,  1.04191322e-01,\n",
       "          2.67769020e-01,  6.41407147e-02,  7.98658866e-02,\n",
       "         -1.09772721e-01,  7.72937641e-03,  0.00000000e+00,\n",
       "         -6.35655511e-02, -2.60456408e-02,  2.98098794e-02,\n",
       "          3.95464434e-02, -7.52058354e-02, -1.56986497e-01,\n",
       "          0.00000000e+00,  1.77667165e-02, -2.42570672e-01,\n",
       "         -1.40219819e-01,  3.98028146e-02,  1.50191914e-01,\n",
       "         -2.64530991e-01, -7.47097669e-02, -8.89255324e-02,\n",
       "          1.89202005e-02, -1.33602049e-01, -3.85033642e-02,\n",
       "          1.60033091e-01,  1.90811927e-01,  1.86798857e-02,\n",
       "         -1.91119909e-01,  8.66291511e-02, -2.80266525e-02,\n",
       "         -2.71256220e-02, -2.08990465e-01,  1.03736817e-01,\n",
       "          1.36401041e-01,  2.38142133e-01, -8.30975617e-02,\n",
       "          1.41071902e-01],\n",
       "        [ 0.00000000e+00, -1.14895102e-02,  6.55063688e-02,\n",
       "         -7.68086700e-02, -4.30224304e-02, -1.16551265e-01,\n",
       "         -1.14722587e-02, -1.47179987e-02, -2.01991540e-02,\n",
       "          1.84312311e-01,  1.40192454e-01, -4.93724631e-02,\n",
       "          1.66589755e-01, -2.02632502e-01, -7.29878884e-03,\n",
       "          1.62213850e-02, -8.36474558e-04,  4.12103826e-02,\n",
       "          8.16746353e-02, -2.40005967e-01,  8.00378170e-02,\n",
       "         -3.14566257e-02,  1.03485112e-01,  1.00569255e-01,\n",
       "          5.62380385e-03, -1.20559280e-01, -3.19854890e-01,\n",
       "         -5.54026921e-01,  9.41128408e-02,  9.17829698e-02,\n",
       "          1.04083314e-03,  9.33207282e-03,  0.00000000e+00,\n",
       "         -2.42306756e-02, -2.97216658e-01, -6.09841140e-02,\n",
       "         -7.73826711e-02, -1.86785934e-01, -2.14458767e-01,\n",
       "          0.00000000e+00, -3.96979020e-02,  8.82073738e-02,\n",
       "          1.69726943e-02,  4.88727227e-01, -2.96020813e-01,\n",
       "         -4.31386092e-01, -4.04634351e-01,  6.18158507e-02,\n",
       "         -2.47434359e-02,  1.93590919e-01,  3.67891375e-02,\n",
       "          2.79515331e-01,  3.97902075e-01,  3.24684320e-01,\n",
       "          1.87133795e-01,  1.29983556e-03,  8.48567298e-02,\n",
       "          5.25890088e-02,  1.25612390e-01, -4.26107083e-03,\n",
       "          5.12735614e-02,  2.67130048e-01,  3.85991506e-01,\n",
       "         -4.94859683e-02],\n",
       "        [ 0.00000000e+00,  4.55226633e-02, -1.17387769e-01,\n",
       "          1.23691417e-01,  3.01263861e-01,  9.22022302e-03,\n",
       "         -8.48382276e-02, -1.76766207e-02, -5.45065836e-02,\n",
       "          8.21433959e-02,  8.01532258e-02,  4.59387682e-02,\n",
       "         -1.09437952e-04,  1.96397972e-01,  2.15337498e-01,\n",
       "         -1.69518860e-02, -4.89683028e-03, -1.38080327e-01,\n",
       "         -5.49448076e-01, -2.69680821e-01,  3.43849063e-01,\n",
       "         -6.95095322e-02, -3.56837920e-04,  2.98738262e-02,\n",
       "          4.57663133e-02, -1.36206101e-01, -3.95911571e-01,\n",
       "         -9.35917743e-02,  9.93697268e-03, -4.81286693e-01,\n",
       "         -2.72462776e-01,  4.30380729e-02,  0.00000000e+00,\n",
       "          7.84795323e-02, -1.50195010e-01, -1.92638336e-01,\n",
       "          2.37762053e-01,  1.72072900e-01, -1.68972963e-01,\n",
       "          0.00000000e+00,  4.99726341e-02,  8.43570496e-02,\n",
       "         -2.04806604e-01, -5.48236321e-01, -1.52546679e-04,\n",
       "          4.07796961e-01,  3.98956086e-01, -1.78309684e-02,\n",
       "         -1.08716146e-02, -3.29500488e-02, -3.30977891e-02,\n",
       "         -1.53934404e-01,  7.86975863e-02,  5.42426018e-03,\n",
       "          1.91754702e-01, -8.51289781e-02,  2.45045316e-02,\n",
       "         -1.53176298e-03,  1.00115881e-01,  1.05195111e-01,\n",
       "          1.56971718e-01,  1.31768063e-03, -1.40363400e-01,\n",
       "         -1.12743289e-01],\n",
       "        [ 0.00000000e+00,  1.07076861e-02, -3.69131921e-02,\n",
       "         -3.68237579e-01, -5.19344709e-02, -3.87139474e-01,\n",
       "         -2.12789574e-01,  1.01083535e-02,  7.77393705e-03,\n",
       "          1.72062117e-01, -1.86095665e-01, -1.30327567e-01,\n",
       "         -3.19146172e-01, -3.49394508e-01, -1.27575430e-01,\n",
       "         -4.41857450e-02,  6.05376449e-03, -1.46997118e-02,\n",
       "          1.01490319e-01,  1.37854962e-01, -1.82812922e-02,\n",
       "          4.96470486e-02,  2.22717067e-02,  1.22106072e-01,\n",
       "          1.03880751e-01,  2.78577063e-02,  1.72682358e-01,\n",
       "         -1.21058445e-01,  1.05619306e-01,  1.15547914e-01,\n",
       "          3.05042154e-01,  1.54499855e-01,  0.00000000e+00,\n",
       "          3.52048951e-01, -3.61737291e-02, -6.88254304e-02,\n",
       "          1.82143814e-01,  1.89576943e-01,  1.94975806e-01,\n",
       "          0.00000000e+00,  1.64382832e-01,  3.46939795e-01,\n",
       "         -1.27103621e-01,  3.74784767e-01,  2.95855032e-01,\n",
       "          1.05003469e-01, -8.79309307e-02, -1.60032206e-02,\n",
       "          6.36893246e-02,  2.13557224e-01, -2.44063512e-01,\n",
       "         -1.42962410e-01,  8.86628921e-02, -2.88615230e-01,\n",
       "         -1.51709570e-01,  9.12698605e-03, -6.05307275e-02,\n",
       "          2.25727179e-02,  2.61642731e-02, -9.52738136e-02,\n",
       "          1.27269322e-01, -2.69259908e-01, -3.48271611e-02,\n",
       "         -1.46280102e-02],\n",
       "        [ 0.00000000e+00,  2.89637490e-02,  3.71316463e-01,\n",
       "         -1.48659977e-01,  1.85849270e-01,  4.06789418e-01,\n",
       "          2.87649616e-01, -1.00039925e-01,  1.87358454e-02,\n",
       "         -2.78480845e-02,  1.44030202e-01,  1.10488117e-01,\n",
       "          1.01613305e-01, -2.10293679e-01, -1.35508880e-01,\n",
       "         -3.46951009e-02, -3.02347604e-02,  9.39194609e-02,\n",
       "          1.82589938e-01, -2.15179169e-02, -5.83320612e-01,\n",
       "         -6.33148632e-01, -3.79687183e-01,  3.95529147e-02,\n",
       "         -7.20265650e-02,  2.29548477e-01,  3.28995091e-01,\n",
       "          1.53594846e-01,  1.47700689e-01, -1.37988742e-02,\n",
       "         -2.29267908e-01,  1.41292352e-02,  0.00000000e+00,\n",
       "         -7.14467222e-02,  1.40603070e-01, -1.36862135e-01,\n",
       "         -1.00994341e-01, -6.97925611e-03,  2.01705093e-02,\n",
       "          0.00000000e+00,  6.84927002e-03, -1.45473970e-01,\n",
       "         -3.42310796e-01, -2.38555007e-01, -1.80026869e-02,\n",
       "          2.83724964e-02,  2.78631409e-02, -1.57210862e-02,\n",
       "          2.59390766e-02,  1.78191880e-02, -7.51325884e-02,\n",
       "         -6.62250197e-02,  5.48000985e-02, -6.27341888e-02,\n",
       "         -1.85620786e-01,  4.73468754e-02,  5.99367557e-04,\n",
       "          7.90365464e-02,  2.72969464e-01,  1.71316701e-01,\n",
       "         -1.10872366e-01, -1.46722591e-01, -9.13261157e-02,\n",
       "         -9.65356306e-02],\n",
       "        [ 0.00000000e+00, -1.22761568e-02, -2.14068940e-01,\n",
       "          5.87318015e-02, -4.24323019e-02, -3.40820692e-02,\n",
       "          3.08703433e-02, -2.11367243e-02,  7.92597809e-03,\n",
       "         -1.28306281e-01, -1.29166228e-01, -1.83532851e-03,\n",
       "         -2.10426008e-01, -1.79404471e-01,  1.17460568e-01,\n",
       "          1.32380911e-02,  5.71512390e-03, -1.84888778e-01,\n",
       "          1.02903494e-01, -4.47247737e-02, -2.30172948e-01,\n",
       "         -4.19381849e-01, -7.56003023e-02,  8.26909907e-03,\n",
       "          4.36763592e-03, -9.81837623e-02,  1.05082912e-01,\n",
       "         -2.19926549e-02, -2.12235600e-01, -2.10646336e-01,\n",
       "         -2.89755845e-01,  5.65963963e-03,  0.00000000e+00,\n",
       "          2.37823583e-03,  3.00682257e-01,  1.61864368e-01,\n",
       "          7.34650812e-02,  1.84439009e-01, -1.50938167e-01,\n",
       "          0.00000000e+00, -1.20440324e-02, -2.15433074e-01,\n",
       "          2.99034323e-01,  9.29099120e-02,  4.44766936e-02,\n",
       "          1.09398101e-01,  3.04426869e-01,  2.22254744e-01,\n",
       "          1.72771133e-02, -1.20491796e-01,  1.67439996e-01,\n",
       "          2.95282939e-01, -2.84515757e-01,  1.81893988e-01,\n",
       "          3.10796058e-01, -1.45650894e-01,  2.36626266e-02,\n",
       "         -1.59159800e-02, -8.59444399e-02, -6.81198461e-02,\n",
       "         -4.24768128e-02,  2.43267308e-01, -2.26465844e-02,\n",
       "         -8.41442311e-02],\n",
       "        [ 0.00000000e+00,  8.77353842e-04, -3.16396412e-02,\n",
       "          1.49190781e-01,  1.43412368e-01,  1.77607436e-01,\n",
       "          2.07416913e-01,  2.28849160e-01,  1.09924870e-02,\n",
       "         -4.20225686e-02,  1.98794155e-01,  8.75998628e-02,\n",
       "          2.99241298e-01,  6.09922859e-02,  2.00021581e-02,\n",
       "          1.32414706e-01,  8.29753186e-03, -6.32674050e-02,\n",
       "         -2.76639759e-01, -2.57440813e-01, -7.70608516e-02,\n",
       "          7.95899130e-03, -1.36145942e-02, -7.73775842e-02,\n",
       "          9.78655708e-03, -2.70316956e-01, -2.24676327e-01,\n",
       "         -2.22144874e-01, -3.15211046e-02,  1.88866641e-01,\n",
       "          2.30150627e-01, -1.76288862e-01,  0.00000000e+00,\n",
       "         -1.23903709e-01,  1.77087562e-01,  1.48722582e-01,\n",
       "          1.94550254e-01,  2.61870352e-01,  3.01871826e-01,\n",
       "          0.00000000e+00,  8.51152582e-04, -8.28633583e-02,\n",
       "          6.57379612e-02,  1.45917423e-01,  1.11365827e-01,\n",
       "         -5.64304585e-02, -7.86052334e-02, -3.83146779e-02,\n",
       "          6.67713138e-02, -4.48210714e-02, -6.78538809e-02,\n",
       "          1.64584580e-01, -4.95463968e-01, -2.99517820e-01,\n",
       "         -5.60217037e-02,  2.72190348e-02, -5.81639856e-03,\n",
       "         -1.21498887e-01, -5.62281056e-03, -8.87913964e-02,\n",
       "         -5.06987997e-01, -1.60547390e-01, -7.28566287e-02,\n",
       "          6.90251877e-02],\n",
       "        [ 0.00000000e+00, -6.03331783e-02, -1.71319639e-02,\n",
       "         -2.17055547e-01,  7.95354252e-02, -6.13072799e-02,\n",
       "         -3.12748320e-01, -2.67207476e-02,  3.95209074e-02,\n",
       "         -5.59051577e-02,  2.95629271e-01, -3.48354139e-02,\n",
       "         -2.57038864e-01,  2.94408387e-01,  1.70016383e-01,\n",
       "          1.10008478e-02,  7.53230649e-02,  1.20514748e-01,\n",
       "          3.84779682e-01,  2.90221252e-02, -7.82747805e-02,\n",
       "          3.05912396e-01,  1.39138890e-01, -5.08984622e-02,\n",
       "         -5.00298133e-03, -1.04087813e-01, -4.94151636e-02,\n",
       "          4.27728779e-01,  6.88103780e-02,  6.22544547e-02,\n",
       "         -1.66883527e-01, -1.65624112e-02,  0.00000000e+00,\n",
       "         -2.61674354e-01, -1.78190175e-01,  4.74130050e-01,\n",
       "          2.37619473e-01, -3.56920872e-01, -3.03090780e-01,\n",
       "          0.00000000e+00, -1.36236514e-03,  8.69898343e-02,\n",
       "          4.80990644e-01,  1.06859366e-01,  1.44440319e-01,\n",
       "          1.95931209e-01, -1.24730757e-01,  1.60725965e-02,\n",
       "          2.23557642e-02, -1.42881110e-02,  2.86593552e-01,\n",
       "         -3.25431018e-01, -2.77093323e-01,  1.86946749e-01,\n",
       "         -5.65460739e-02, -2.65018586e-02, -3.81154226e-02,\n",
       "         -1.25717685e-02, -2.46488030e-01,  4.69456847e-02,\n",
       "          1.15303898e-01, -2.35240525e-01, -1.96978585e-02,\n",
       "         -8.56106673e-03],\n",
       "        [ 0.00000000e+00, -6.52262121e-02, -5.75787099e-02,\n",
       "          1.38284753e-01, -6.25506645e-02, -2.85441254e-01,\n",
       "         -3.17168671e-02, -6.28906272e-02, -1.09013693e-02,\n",
       "          3.18990717e-02,  1.29664845e-01, -3.88601666e-03,\n",
       "         -4.02446071e-02,  1.80530751e-02,  7.37060714e-02,\n",
       "         -8.99211829e-03, -2.47437582e-03,  1.01770320e-01,\n",
       "          3.08509685e-01,  5.26606300e-02,  7.44487397e-02,\n",
       "          5.70979753e-01,  1.42443364e-01, -1.20890540e-01,\n",
       "          7.41060843e-03, -1.92562202e-01,  3.01215794e-01,\n",
       "          3.40857680e-01,  1.96820731e-01,  3.99260761e-01,\n",
       "          9.11084287e-02, -5.48250014e-02,  0.00000000e+00,\n",
       "         -3.15236699e-01, -1.44875710e-01,  2.17123360e-01,\n",
       "         -4.90272798e-01,  3.16645301e-02,  1.11484729e-01,\n",
       "          0.00000000e+00,  4.75093867e-02,  6.96854622e-02,\n",
       "         -5.52575642e-01, -3.44452909e-01, -2.21904834e-01,\n",
       "         -8.42745499e-02, -3.54664935e-02, -1.89825187e-02,\n",
       "          1.07298191e-02,  1.25174136e-01, -1.88266908e-01,\n",
       "         -1.62989165e-01, -1.30090391e-01, -2.98002831e-01,\n",
       "          1.14409458e-01,  5.41314593e-02, -1.07742596e-03,\n",
       "         -4.64915158e-02, -5.58035842e-02, -1.64061807e-01,\n",
       "          2.00293988e-01, -1.57753396e-02,  5.66475795e-02,\n",
       "         -1.04948628e-01]]))"
      ]
     },
     "execution_count": 40,
     "metadata": {},
     "output_type": "execute_result"
    }
   ],
   "source": [
    "#Model Attributes\n",
    "model.classes_, model.intercept_, model.coef_"
   ]
  },
  {
   "cell_type": "code",
   "execution_count": 41,
   "metadata": {},
   "outputs": [],
   "source": [
    "#Predictions\n",
    "y_pred = model.predict(x_test)"
   ]
  },
  {
   "cell_type": "code",
   "execution_count": 44,
   "metadata": {},
   "outputs": [
    {
     "name": "stdout",
     "output_type": "stream",
     "text": [
      "Training Accuracy :  0.964509394572025\n",
      "Testing Accuracy :  0.95\n"
     ]
    }
   ],
   "source": [
    "print(\"Training Accuracy : \",model.score(x_train, y_train))\n",
    "print(\"Testing Accuracy : \", model.score(x_test, y_test))"
   ]
  },
  {
   "cell_type": "code",
   "execution_count": 47,
   "metadata": {},
   "outputs": [
    {
     "name": "stdout",
     "output_type": "stream",
     "text": [
      "[[27  0  0  0  0  0  0  0  0  0]\n",
      " [ 0 33  0  0  0  0  0  0  1  1]\n",
      " [ 2  0 34  0  0  0  0  0  0  0]\n",
      " [ 0  0  1 28  0  0  0  0  0  0]\n",
      " [ 0  0  0  0 29  0  0  1  0  0]\n",
      " [ 0  0  0  0  0 39  0  0  0  1]\n",
      " [ 0  1  0  0  0  0 43  0  0  0]\n",
      " [ 0  0  0  0  0  0  0 39  0  0]\n",
      " [ 0  2  1  2  0  0  0  0 34  0]\n",
      " [ 0  0  0  1  0  1  0  2  1 36]]\n"
     ]
    }
   ],
   "source": [
    "print(confusion_matrix(y_test, y_pred))"
   ]
  },
  {
   "cell_type": "code",
   "execution_count": 50,
   "metadata": {},
   "outputs": [
    {
     "data": {
      "text/plain": [
       "<sklearn.metrics._plot.confusion_matrix.ConfusionMatrixDisplay at 0x24ad9e781c0>"
      ]
     },
     "execution_count": 50,
     "metadata": {},
     "output_type": "execute_result"
    },
    {
     "data": {
      "image/png": "[encoded data removed]",
      "text/plain": [
       "<Figure size 432x288 with 2 Axes>"
      ]
     },
     "metadata": {
      "needs_background": "light"
     },
     "output_type": "display_data"
    }
   ],
   "source": [
    "plot_confusion_matrix(model, x_test, y_test)"
   ]
  },
  {
   "cell_type": "code",
   "execution_count": 51,
   "metadata": {},
   "outputs": [
    {
     "name": "stdout",
     "output_type": "stream",
     "text": [
      "              precision    recall  f1-score   support\n",
      "\n",
      "           0       0.93      1.00      0.96        27\n",
      "           1       0.92      0.94      0.93        35\n",
      "           2       0.94      0.94      0.94        36\n",
      "           3       0.90      0.97      0.93        29\n",
      "           4       1.00      0.97      0.98        30\n",
      "           5       0.97      0.97      0.97        40\n",
      "           6       1.00      0.98      0.99        44\n",
      "           7       0.93      1.00      0.96        39\n",
      "           8       0.94      0.87      0.91        39\n",
      "           9       0.95      0.88      0.91        41\n",
      "\n",
      "    accuracy                           0.95       360\n",
      "   macro avg       0.95      0.95      0.95       360\n",
      "weighted avg       0.95      0.95      0.95       360\n",
      "\n"
     ]
    }
   ],
   "source": [
    "print(classification_report(y_test, y_pred))"
   ]
  }
 ],
 "metadata": {
  "kernelspec": {
   "display_name": "Python 3",
   "language": "python",
   "name": "python3"
  },
  "language_info": {
   "codemirror_mode": {
    "name": "ipython",
    "version": 3
   },
   "file_extension": ".py",
   "mimetype": "text/x-python",
   "name": "python",
   "nbconvert_exporter": "python",
   "pygments_lexer": "ipython3",
   "version": "3.8.5"
  }
 },
 "nbformat": 4,
 "nbformat_minor": 4
}
