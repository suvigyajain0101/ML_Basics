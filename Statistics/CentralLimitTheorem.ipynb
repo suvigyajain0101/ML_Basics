{
 "cells": [
  {
   "cell_type": "markdown",
   "metadata": {},
   "source": [
    "# Central Limit Theorem\n",
    "\n",
    "\n",
    "The central limit theorem states that if you have a population with mean μ and standard deviation σ and take sufficiently large random samples from the population with replacementtext annotation indicator, then the distribution of the sample means will be approximately normally distributed\n",
    "\n",
    "In this notebook, we just create a list of random numbers, take samples with replacement (this is a mandate for CLT), calculate mean of the sample and plot the frequency distribution of the means\n",
    "\n",
    "Plots at the end show that higher the number of iterations, i.e., higher the number of samples taken and their means added, closer the plot looks like to a normal distribution"
   ]
  },
  {
   "cell_type": "code",
   "execution_count": 1,
   "metadata": {},
   "outputs": [],
   "source": [
    "# Import libraries\n",
    "import numpy as np\n",
    "import random\n",
    "import matplotlib.pyplot as plt\n",
    "from collections import Counter"
   ]
  },
  {
   "cell_type": "markdown",
   "metadata": {},
   "source": [
    "Let's define some input params. Use these to initialize the base array, from which we will draw random samples"
   ]
  },
  {
   "cell_type": "code",
   "execution_count": 2,
   "metadata": {},
   "outputs": [],
   "source": [
    "# 1. Array Size\n",
    "arr_size = 10\n",
    "\n",
    "# 2. Lower Bound of the array\n",
    "lower_bound = 1\n",
    "\n",
    "# 3. Upper Bound of the array\n",
    "upper_bound = 10\n",
    "\n",
    "# 4. Size of the samples\n",
    "sample_size = 100\n",
    "\n",
    "# Initialize the base array - Not sorted, not normal, just a bunch of random numbers\n",
    "base_array = np.random.randint(lower_bound, upper_bound, size=arr_size)"
   ]
  },
  {
   "cell_type": "markdown",
   "metadata": {},
   "source": [
    "Let's define a simple function to get frequency distribution of the means of samples "
   ]
  },
  {
   "cell_type": "code",
   "execution_count": 3,
   "metadata": {},
   "outputs": [],
   "source": [
    "def getCounter(iters, arr = base_array, ss = sample_size):\n",
    "    \"\"\"Function to return Frequency distribution of the means of the samples from input array\n",
    "    \n",
    "    params : \n",
    "            iters - Total number of times this process needs to be done\n",
    "            arr - Input array, from which samples will be taken\n",
    "            ss - Sample size\n",
    "    output : \n",
    "            returns dict of frequency of the means of the samples\n",
    "    \"\"\"\n",
    "    output = []\n",
    "    for i in range(iters):\n",
    "        # Sample the base array\n",
    "        samples = random.choices(population=base_array, k=sample_size)\n",
    "\n",
    "        # Calculate Average of the sample\n",
    "        average = sum(samples) / sample_size\n",
    "\n",
    "        # Save to the output\n",
    "        output.append(average)\n",
    "    \n",
    "    # Create Frequency Distribution\n",
    "    freq_dist = Counter(output)\n",
    "    return freq_dist"
   ]
  },
  {
   "cell_type": "markdown",
   "metadata": {},
   "source": [
    "All done, let's Rock 'n Roll!!"
   ]
  },
  {
   "cell_type": "markdown",
   "metadata": {},
   "source": [
    "Let's create the output for 1000 and 100000 iterations"
   ]
  },
  {
   "cell_type": "code",
   "execution_count": 4,
   "metadata": {},
   "outputs": [],
   "source": [
    "output_1000 = getCounter(1000)\n",
    "output_100000 = getCounter(100000)"
   ]
  },
  {
   "cell_type": "markdown",
   "metadata": {},
   "source": [
    "Plot Outputs"
   ]
  },
  {
   "cell_type": "code",
   "execution_count": 5,
   "metadata": {
    "scrolled": true
   },
   "outputs": [
    {
     "data": {
      "text/plain": [
       "<BarContainer object of 132 artists>"
      ]
     },
     "execution_count": 5,
     "metadata": {},
     "output_type": "execute_result"
    },
    {
     "data": {
      "image/png": "[encoded data removed]",
      "text/plain": [
       "<Figure size 432x288 with 1 Axes>"
      ]
     },
     "metadata": {
      "needs_background": "light"
     },
     "output_type": "display_data"
    }
   ],
   "source": [
    "# First plot with 1000 iters\n",
    "plt.bar(list(output_1000.keys()), output_1000.values(), color='g')"
   ]
  },
  {
   "cell_type": "code",
   "execution_count": 6,
   "metadata": {},
   "outputs": [
    {
     "data": {
      "text/plain": [
       "<BarContainer object of 205 artists>"
      ]
     },
     "execution_count": 6,
     "metadata": {},
     "output_type": "execute_result"
    },
    {
     "data": {
      "image/png": "[encoded data removed]",
      "text/plain": [
       "<Figure size 432x288 with 1 Axes>"
      ]
     },
     "metadata": {
      "needs_background": "light"
     },
     "output_type": "display_data"
    }
   ],
   "source": [
    "# First plot with 1000 iters\n",
    "plt.bar(list(output_100000.keys()), output_100000.values(), color='g')"
   ]
  },
  {
   "cell_type": "markdown",
   "metadata": {},
   "source": [
    "The above plots show that as iters increase, plots tends to resemble normal distribution. Another example is that if one flips a coin many times, the probability of getting a given number of heads will approach a normal distribution, with the mean equal to half the total number of flips. At the limit of an infinite number of flips, it will equal a normal distribution."
   ]
  }
 ],
 "metadata": {
  "kernelspec": {
   "display_name": "Python 3",
   "language": "python",
   "name": "python3"
  },
  "language_info": {
   "codemirror_mode": {
    "name": "ipython",
    "version": 3
   },
   "file_extension": ".py",
   "mimetype": "text/x-python",
   "name": "python",
   "nbconvert_exporter": "python",
   "pygments_lexer": "ipython3",
   "version": "3.8.5"
  }
 },
 "nbformat": 4,
 "nbformat_minor": 4
}
