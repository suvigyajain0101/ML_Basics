{
  "nbformat": 4,
  "nbformat_minor": 0,
  "metadata": {
    "colab": {
      "name": "Regression_Basics.ipynb",
      "provenance": [],
      "authorship_tag": "ABX9TyNAnftco9aBjbkBRQv7IJ5c"
    },
    "kernelspec": {
      "name": "python3",
      "display_name": "Python 3"
    },
    "language_info": {
      "name": "python"
    }
  },
  "cells": [
    {
      "cell_type": "code",
      "metadata": {
        "id": "iHjqiqdWNiJp"
      },
      "source": [
        "### Download the dataset from Kaggle"
      ],
      "execution_count": null,
      "outputs": []
    },
    {
      "cell_type": "code",
      "metadata": {
        "colab": {
          "base_uri": "https://localhost:8080/"
        },
        "id": "RwL3Vgl0MiBK",
        "outputId": "7b52a2f7-3599-42cc-e13f-7b23ae8c2a61"
      },
      "source": [
        "!pip install --upgrade --force-reinstall --no-deps kaggle"
      ],
      "execution_count": 1,
      "outputs": [
        {
          "output_type": "stream",
          "text": [
            "Collecting kaggle\n",
            "  Downloading kaggle-1.5.12.tar.gz (58 kB)\n",
            "\u001b[?25l\r\u001b[K     |█████▋                          | 10 kB 18.4 MB/s eta 0:00:01\r\u001b[K     |███████████▏                    | 20 kB 22.0 MB/s eta 0:00:01\r\u001b[K     |████████████████▊               | 30 kB 13.5 MB/s eta 0:00:01\r\u001b[K     |██████████████████████▎         | 40 kB 10.5 MB/s eta 0:00:01\r\u001b[K     |███████████████████████████▉    | 51 kB 5.4 MB/s eta 0:00:01\r\u001b[K     |████████████████████████████████| 58 kB 3.1 MB/s \n",
            "\u001b[?25hBuilding wheels for collected packages: kaggle\n",
            "  Building wheel for kaggle (setup.py) ... \u001b[?25l\u001b[?25hdone\n",
            "  Created wheel for kaggle: filename=kaggle-1.5.12-py3-none-any.whl size=73052 sha256=dc19a5620150ec19efd788843765e5a3c91f3f1301b87fd4547f8fbd857caecc\n",
            "  Stored in directory: /root/.cache/pip/wheels/62/d6/58/5853130f941e75b2177d281eb7e44b4a98ed46dd155f556dc5\n",
            "Successfully built kaggle\n",
            "Installing collected packages: kaggle\n",
            "  Attempting uninstall: kaggle\n",
            "    Found existing installation: kaggle 1.5.12\n",
            "    Uninstalling kaggle-1.5.12:\n",
            "      Successfully uninstalled kaggle-1.5.12\n",
            "Successfully installed kaggle-1.5.12\n"
          ],
          "name": "stdout"
        }
      ]
    },
    {
      "cell_type": "code",
      "metadata": {
        "id": "tZ56nkdSM2Ux"
      },
      "source": [
        "from google.colab import files\n",
        "files.upload()"
      ],
      "execution_count": null,
      "outputs": []
    },
    {
      "cell_type": "code",
      "metadata": {
        "id": "UWUwwWyhM4Cx"
      },
      "source": [
        "! mkdir ~/.kaggle"
      ],
      "execution_count": 3,
      "outputs": []
    },
    {
      "cell_type": "code",
      "metadata": {
        "id": "Ab58bLkqM5n0"
      },
      "source": [
        "\n",
        "! cp kaggle.json ~/.kaggle/"
      ],
      "execution_count": 4,
      "outputs": []
    },
    {
      "cell_type": "code",
      "metadata": {
        "id": "u17po8jtM75h"
      },
      "source": [
        "! chmod 600 ~/.kaggle/kaggle.json"
      ],
      "execution_count": 5,
      "outputs": []
    },
    {
      "cell_type": "code",
      "metadata": {
        "colab": {
          "base_uri": "https://localhost:8080/"
        },
        "id": "eYa2q5v_M-CP",
        "outputId": "03631a43-79ef-451e-e699-1a10da36de0c"
      },
      "source": [
        "! kaggle competitions download -c bluebook-for-bulldozers"
      ],
      "execution_count": 7,
      "outputs": [
        {
          "output_type": "stream",
          "text": [
            "Downloading bluebook-for-bulldozers.zip to /content\n",
            " 85% 41.0M/48.4M [00:00<00:00, 52.2MB/s]\n",
            "100% 48.4M/48.4M [00:00<00:00, 68.7MB/s]\n"
          ],
          "name": "stdout"
        }
      ]
    },
    {
      "cell_type": "code",
      "metadata": {
        "id": "bHbQnSnrNKu5"
      },
      "source": [
        "! mkdir input_data"
      ],
      "execution_count": 8,
      "outputs": []
    },
    {
      "cell_type": "code",
      "metadata": {
        "colab": {
          "base_uri": "https://localhost:8080/"
        },
        "id": "cAt5Q3BsNb9q",
        "outputId": "54bd906e-df54-42bb-c523-61204264d7bd"
      },
      "source": [
        "! unzip bluebook-for-bulldozers.zip -d input_data"
      ],
      "execution_count": 9,
      "outputs": [
        {
          "output_type": "stream",
          "text": [
            "Archive:  bluebook-for-bulldozers.zip\n",
            "  inflating: input_data/Data Dictionary.xlsx  \n",
            "  inflating: input_data/Machine_Appendix.csv  \n",
            "  inflating: input_data/Test.csv     \n",
            "  inflating: input_data/Train.7z     \n",
            "  inflating: input_data/Train.zip    \n",
            "  inflating: input_data/TrainAndValid.7z  \n",
            "  inflating: input_data/TrainAndValid.csv  \n",
            "  inflating: input_data/TrainAndValid.zip  \n",
            "  inflating: input_data/Valid.7z     \n",
            "  inflating: input_data/Valid.csv    \n",
            "  inflating: input_data/Valid.zip    \n",
            "  inflating: input_data/ValidSolution.csv  \n",
            "  inflating: input_data/median_benchmark.csv  \n",
            "  inflating: input_data/random_forest_benchmark_test.csv  \n"
          ],
          "name": "stdout"
        }
      ]
    },
    {
      "cell_type": "code",
      "metadata": {
        "id": "cPMGyh14Nf9P"
      },
      "source": [
        ""
      ],
      "execution_count": null,
      "outputs": []
    }
  ]
}